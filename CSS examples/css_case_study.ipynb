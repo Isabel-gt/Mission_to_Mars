{
 "cells": [
  {
   "cell_type": "code",
   "execution_count": 1,
   "id": "0eb111b2",
   "metadata": {},
   "outputs": [],
   "source": [
    "from bs4 import BeautifulSoup as soup"
   ]
  },
  {
   "cell_type": "code",
   "execution_count": 2,
   "id": "fb9d7eca",
   "metadata": {},
   "outputs": [],
   "source": [
    "html = \"\"\"\n",
    "<!DOCTYPE html>\n",
    "<html lang=\"en\">\n",
    "\n",
    "<head>\n",
    "    <meta charset=\"UTF-8\">\n",
    "    <meta http-equiv=\"X-UA-Compatible\" content=\"IE=edge\">\n",
    "    <meta name=\"viewport\" content=\"width=device-width, initial-scale=1.0\">\n",
    "    <title>Document</title>\n",
    "</head>\n",
    "\n",
    "<style>\n",
    "    .even {\n",
    "        color: blue;\n",
    "    }\n",
    "\n",
    "    .odd {\n",
    "        color: green;\n",
    "    }\n",
    "</style>\n",
    "\n",
    "<body>\n",
    "    <div>\n",
    "        <p class=\"odd\" id=\"first\">First</p>\n",
    "        <p class=\"even\" id=\"second\">Second</p>\n",
    "        <p class=\"odd\" id=\"third\">Third</p>\n",
    "    </div>\n",
    "\n",
    "    <div>\n",
    "        <p class=\"even\" id=\"fourth\">Fourth</p>\n",
    "        <p class=\"odd\" id=\"fifth\">Fifth</p>\n",
    "        <p class=\"even\" id=\"sixth\">Sixth</p>\n",
    "    </div>\n",
    "</body>\n",
    "\n",
    "</html>\n",
    "\"\"\""
   ]
  },
  {
   "cell_type": "code",
   "execution_count": 3,
   "id": "4ea1e2cc",
   "metadata": {},
   "outputs": [],
   "source": [
    "html_soup = soup(html, 'html.parser')"
   ]
  },
  {
   "cell_type": "markdown",
   "id": "c79489fd",
   "metadata": {},
   "source": [
    "# CSS 1: Class"
   ]
  },
  {
   "cell_type": "code",
   "execution_count": 4,
   "id": "c525ffd7",
   "metadata": {},
   "outputs": [],
   "source": [
    "odds = html_soup.find_all(\"p\", class_=\"odd\")"
   ]
  },
  {
   "cell_type": "code",
   "execution_count": 5,
   "id": "f11e4de1",
   "metadata": {},
   "outputs": [
    {
     "data": {
      "text/plain": [
       "[<p class=\"odd\" id=\"first\">First</p>,\n",
       " <p class=\"odd\" id=\"third\">Third</p>,\n",
       " <p class=\"odd\" id=\"fifth\">Fifth</p>]"
      ]
     },
     "execution_count": 5,
     "metadata": {},
     "output_type": "execute_result"
    }
   ],
   "source": [
    "odds"
   ]
  },
  {
   "cell_type": "code",
   "execution_count": 6,
   "id": "a32920c1",
   "metadata": {},
   "outputs": [
    {
     "name": "stdout",
     "output_type": "stream",
     "text": [
      "<p class=\"odd\" id=\"first\">First</p>\n",
      "<p class=\"odd\" id=\"third\">Third</p>\n",
      "<p class=\"odd\" id=\"fifth\">Fifth</p>\n"
     ]
    }
   ],
   "source": [
    "for odd in odds:\n",
    "    print(odd)"
   ]
  },
  {
   "cell_type": "code",
   "execution_count": 11,
   "id": "10357b61",
   "metadata": {},
   "outputs": [],
   "source": [
    "text = html_soup.find_all(text)"
   ]
  },
  {
   "cell_type": "code",
   "execution_count": 12,
   "id": "fecb742c",
   "metadata": {},
   "outputs": [
    {
     "data": {
      "text/plain": [
       "[<html lang=\"en\">\n",
       " <head>\n",
       " <meta charset=\"utf-8\"/>\n",
       " <meta content=\"IE=edge\" http-equiv=\"X-UA-Compatible\"/>\n",
       " <meta content=\"width=device-width, initial-scale=1.0\" name=\"viewport\"/>\n",
       " <title>Document</title>\n",
       " </head>\n",
       " <style>\n",
       "     .even {\n",
       "         color: blue;\n",
       "     }\n",
       " \n",
       "     .odd {\n",
       "         color: green;\n",
       "     }\n",
       " </style>\n",
       " <body>\n",
       " <div>\n",
       " <p class=\"odd\" id=\"first\">First</p>\n",
       " <p class=\"even\" id=\"second\">Second</p>\n",
       " <p class=\"odd\" id=\"third\">Third</p>\n",
       " </div>\n",
       " <div>\n",
       " <p class=\"even\" id=\"fourth\">Fourth</p>\n",
       " <p class=\"odd\" id=\"fifth\">Fifth</p>\n",
       " <p class=\"even\" id=\"sixth\">Sixth</p>\n",
       " </div>\n",
       " </body>\n",
       " </html>,\n",
       " <head>\n",
       " <meta charset=\"utf-8\"/>\n",
       " <meta content=\"IE=edge\" http-equiv=\"X-UA-Compatible\"/>\n",
       " <meta content=\"width=device-width, initial-scale=1.0\" name=\"viewport\"/>\n",
       " <title>Document</title>\n",
       " </head>,\n",
       " <meta charset=\"utf-8\"/>,\n",
       " <meta content=\"IE=edge\" http-equiv=\"X-UA-Compatible\"/>,\n",
       " <meta content=\"width=device-width, initial-scale=1.0\" name=\"viewport\"/>,\n",
       " <title>Document</title>,\n",
       " <style>\n",
       "     .even {\n",
       "         color: blue;\n",
       "     }\n",
       " \n",
       "     .odd {\n",
       "         color: green;\n",
       "     }\n",
       " </style>,\n",
       " <body>\n",
       " <div>\n",
       " <p class=\"odd\" id=\"first\">First</p>\n",
       " <p class=\"even\" id=\"second\">Second</p>\n",
       " <p class=\"odd\" id=\"third\">Third</p>\n",
       " </div>\n",
       " <div>\n",
       " <p class=\"even\" id=\"fourth\">Fourth</p>\n",
       " <p class=\"odd\" id=\"fifth\">Fifth</p>\n",
       " <p class=\"even\" id=\"sixth\">Sixth</p>\n",
       " </div>\n",
       " </body>,\n",
       " <div>\n",
       " <p class=\"odd\" id=\"first\">First</p>\n",
       " <p class=\"even\" id=\"second\">Second</p>\n",
       " <p class=\"odd\" id=\"third\">Third</p>\n",
       " </div>,\n",
       " <p class=\"odd\" id=\"first\">First</p>,\n",
       " <p class=\"even\" id=\"second\">Second</p>,\n",
       " <p class=\"odd\" id=\"third\">Third</p>,\n",
       " <div>\n",
       " <p class=\"even\" id=\"fourth\">Fourth</p>\n",
       " <p class=\"odd\" id=\"fifth\">Fifth</p>\n",
       " <p class=\"even\" id=\"sixth\">Sixth</p>\n",
       " </div>,\n",
       " <p class=\"even\" id=\"fourth\">Fourth</p>,\n",
       " <p class=\"odd\" id=\"fifth\">Fifth</p>,\n",
       " <p class=\"even\" id=\"sixth\">Sixth</p>]"
      ]
     },
     "execution_count": 12,
     "metadata": {},
     "output_type": "execute_result"
    }
   ],
   "source": [
    "text"
   ]
  },
  {
   "cell_type": "code",
   "execution_count": 13,
   "id": "e9202fba",
   "metadata": {
    "scrolled": false
   },
   "outputs": [
    {
     "name": "stdout",
     "output_type": "stream",
     "text": [
      "<html lang=\"en\">\n",
      "<head>\n",
      "<meta charset=\"utf-8\"/>\n",
      "<meta content=\"IE=edge\" http-equiv=\"X-UA-Compatible\"/>\n",
      "<meta content=\"width=device-width, initial-scale=1.0\" name=\"viewport\"/>\n",
      "<title>Document</title>\n",
      "</head>\n",
      "<style>\n",
      "    .even {\n",
      "        color: blue;\n",
      "    }\n",
      "\n",
      "    .odd {\n",
      "        color: green;\n",
      "    }\n",
      "</style>\n",
      "<body>\n",
      "<div>\n",
      "<p class=\"odd\" id=\"first\">First</p>\n",
      "<p class=\"even\" id=\"second\">Second</p>\n",
      "<p class=\"odd\" id=\"third\">Third</p>\n",
      "</div>\n",
      "<div>\n",
      "<p class=\"even\" id=\"fourth\">Fourth</p>\n",
      "<p class=\"odd\" id=\"fifth\">Fifth</p>\n",
      "<p class=\"even\" id=\"sixth\">Sixth</p>\n",
      "</div>\n",
      "</body>\n",
      "</html>\n",
      "<head>\n",
      "<meta charset=\"utf-8\"/>\n",
      "<meta content=\"IE=edge\" http-equiv=\"X-UA-Compatible\"/>\n",
      "<meta content=\"width=device-width, initial-scale=1.0\" name=\"viewport\"/>\n",
      "<title>Document</title>\n",
      "</head>\n",
      "<meta charset=\"utf-8\"/>\n",
      "<meta content=\"IE=edge\" http-equiv=\"X-UA-Compatible\"/>\n",
      "<meta content=\"width=device-width, initial-scale=1.0\" name=\"viewport\"/>\n",
      "<title>Document</title>\n",
      "<style>\n",
      "    .even {\n",
      "        color: blue;\n",
      "    }\n",
      "\n",
      "    .odd {\n",
      "        color: green;\n",
      "    }\n",
      "</style>\n",
      "<body>\n",
      "<div>\n",
      "<p class=\"odd\" id=\"first\">First</p>\n",
      "<p class=\"even\" id=\"second\">Second</p>\n",
      "<p class=\"odd\" id=\"third\">Third</p>\n",
      "</div>\n",
      "<div>\n",
      "<p class=\"even\" id=\"fourth\">Fourth</p>\n",
      "<p class=\"odd\" id=\"fifth\">Fifth</p>\n",
      "<p class=\"even\" id=\"sixth\">Sixth</p>\n",
      "</div>\n",
      "</body>\n",
      "<div>\n",
      "<p class=\"odd\" id=\"first\">First</p>\n",
      "<p class=\"even\" id=\"second\">Second</p>\n",
      "<p class=\"odd\" id=\"third\">Third</p>\n",
      "</div>\n",
      "<p class=\"odd\" id=\"first\">First</p>\n",
      "<p class=\"even\" id=\"second\">Second</p>\n",
      "<p class=\"odd\" id=\"third\">Third</p>\n",
      "<div>\n",
      "<p class=\"even\" id=\"fourth\">Fourth</p>\n",
      "<p class=\"odd\" id=\"fifth\">Fifth</p>\n",
      "<p class=\"even\" id=\"sixth\">Sixth</p>\n",
      "</div>\n",
      "<p class=\"even\" id=\"fourth\">Fourth</p>\n",
      "<p class=\"odd\" id=\"fifth\">Fifth</p>\n",
      "<p class=\"even\" id=\"sixth\">Sixth</p>\n"
     ]
    }
   ],
   "source": [
    "for t in text:\n",
    "    print(t)"
   ]
  },
  {
   "cell_type": "code",
   "execution_count": 20,
   "id": "b6fc95eb",
   "metadata": {},
   "outputs": [],
   "source": [
    "evens = html_soup.find_all(\"p\", class_=\"even\")"
   ]
  },
  {
   "cell_type": "code",
   "execution_count": 21,
   "id": "365265ba",
   "metadata": {},
   "outputs": [
    {
     "name": "stdout",
     "output_type": "stream",
     "text": [
      "<p class=\"even\" id=\"second\">Second</p>\n",
      "<p class=\"even\" id=\"fourth\">Fourth</p>\n",
      "<p class=\"even\" id=\"sixth\">Sixth</p>\n"
     ]
    }
   ],
   "source": [
    "for even in evens:\n",
    "    print(even)"
   ]
  },
  {
   "cell_type": "markdown",
   "id": "98131183",
   "metadata": {},
   "source": [
    "# CSS 2 id"
   ]
  },
  {
   "cell_type": "code",
   "execution_count": 22,
   "id": "e71dbf35",
   "metadata": {},
   "outputs": [
    {
     "name": "stdout",
     "output_type": "stream",
     "text": [
      "First\n"
     ]
    }
   ],
   "source": [
    "first = html_soup.find(\"p\", id=\"first\")\n",
    "print(first.text)"
   ]
  }
 ],
 "metadata": {
  "kernelspec": {
   "display_name": "PythonData",
   "language": "python",
   "name": "pythondata"
  },
  "language_info": {
   "codemirror_mode": {
    "name": "ipython",
    "version": 3
   },
   "file_extension": ".py",
   "mimetype": "text/x-python",
   "name": "python",
   "nbconvert_exporter": "python",
   "pygments_lexer": "ipython3",
   "version": "3.9.12"
  }
 },
 "nbformat": 4,
 "nbformat_minor": 5
}
